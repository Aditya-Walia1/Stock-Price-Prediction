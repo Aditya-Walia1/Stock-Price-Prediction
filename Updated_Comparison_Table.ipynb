{
  "nbformat": 4,
  "nbformat_minor": 0,
  "metadata": {
    "colab": {
      "provenance": [],
      "authorship_tag": "ABX9TyPuy0AsnOPOiiE4gotZGSvx",
      "include_colab_link": true
    },
    "kernelspec": {
      "name": "python3",
      "display_name": "Python 3"
    },
    "language_info": {
      "name": "python"
    }
  },
  "cells": [
    {
      "cell_type": "markdown",
      "metadata": {
        "id": "view-in-github",
        "colab_type": "text"
      },
      "source": [
        "<a href=\"https://colab.research.google.com/github/Aditya-Walia1/Stock-Price-Prediction/blob/main/Updated_Comparison_Table.ipynb\" target=\"_parent\"><img src=\"https://colab.research.google.com/assets/colab-badge.svg\" alt=\"Open In Colab\"/></a>"
      ]
    },
    {
      "cell_type": "markdown",
      "source": [
        "##Comparison Table"
      ],
      "metadata": {
        "id": "_AklujwNODjE"
      }
    },
    {
      "cell_type": "code",
      "execution_count": null,
      "metadata": {
        "colab": {
          "base_uri": "https://localhost:8080/"
        },
        "id": "Fn6hu3F1M5xB",
        "outputId": "67bbcc22-4f17-45cb-e8e6-9825d3e1216b"
      },
      "outputs": [
        {
          "output_type": "stream",
          "name": "stdout",
          "text": [
            "  Algorithm       RMSE        MAE       MAPE  Epochs\n",
            "0       GRU   2.828747   2.014145   1.718901      50\n",
            "1    ResNet  19.494443  18.265996  15.194357      50\n",
            "2       MLP   3.705940   2.756653   2.331619      50\n",
            "3       FCN  13.026266  10.454833   8.633355      50\n",
            "4       XCM   4.621425   3.431175   2.866809      50\n",
            "5      LSTM   4.182907   3.034288   2.563991      50\n"
          ]
        }
      ],
      "source": [
        "import pandas as pd\n",
        "\n",
        "\n",
        "results = {\n",
        "    'Algorithm': ['GRU', 'ResNet', 'MLP', 'FCN', 'XCM', 'LSTM'],\n",
        "    'RMSE': [2.828747193608972, 19.494442953210434, 3.705939720203097, 13.026265507281794, 4.6214246248646615, 4.18290655926373],\n",
        "    'MAE': [2.014144889361969, 18.265996069304947, 2.7566526335498347, 10.454832657512087, 3.4311752768557517, 3.034288187066853],\n",
        "    'MAPE': [1.718901222425975, 15.194357022150745, 2.3316190405255774, 8.633355099632995, 2.866808996432153, 2.5639911339867814],\n",
        "    'Epochs': [50, 50,50, 50, 50,50],\n",
        "\n",
        "}\n",
        "\n",
        "# Creating a DataFrame\n",
        "df = pd.DataFrame(results)\n",
        "\n",
        "# Display the table\n",
        "print(df)\n"
      ]
    },
    {
      "cell_type": "code",
      "source": [
        "import pandas as pd\n",
        "\n",
        "\n",
        "results = {\n",
        "    'Algorithm': ['Optimised_GRU', 'Optimised_ResNet', 'Optimised_MLP', 'Optimised_FCN', 'Optimised_XCM', 'Optimised_LSTM'],\n",
        "    'RMSE': [3.480255963154595, 4.394088373652654, 92.90790205159045, 12.19897592997165, 21.061779962682504, 21.061779962682504],\n",
        "    'MAE': [2.5167698238177696, 3.267935901601124, 87.53207297797894, 8.925360440568765, 18.965716335200618, 18.965716335200618],\n",
        "    'MAPE': [2.1170150875945715, 2.7374288751778937, 71.55918348080289, 7.7645913664985855, 15.745157278465374, 15.745157278465374],\n",
        "    'Epochs': [36, 38,11, 11, 11,11],\n",
        "\n",
        "\n",
        "}\n",
        "\n",
        "# Creating a DataFrame\n",
        "df = pd.DataFrame(results)\n",
        "\n",
        "# Display the table\n",
        "print(df)\n"
      ],
      "metadata": {
        "id": "TnFyD2-rncAu"
      },
      "execution_count": null,
      "outputs": []
    }
  ]
}